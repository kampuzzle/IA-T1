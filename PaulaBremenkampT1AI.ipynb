{
  "nbformat": 4,
  "nbformat_minor": 0,
  "metadata": {
    "colab": {
      "provenance": [],
      "authorship_tag": "ABX9TyNNJMpW/Swrq+pxyDZSI963",
      "include_colab_link": true
    },
    "kernelspec": {
      "name": "python3",
      "display_name": "Python 3"
    },
    "language_info": {
      "name": "python"
    }
  },
  "cells": [
    {
      "cell_type": "markdown",
      "metadata": {
        "id": "view-in-github",
        "colab_type": "text"
      },
      "source": [
        "<a href=\"https://colab.research.google.com/github/kampuzzle/IA-T1/blob/main/PaulaBremenkampT1AI.ipynb\" target=\"_parent\"><img src=\"https://colab.research.google.com/assets/colab-badge.svg\" alt=\"Open In Colab\"/></a>"
      ]
    },
    {
      "cell_type": "markdown",
      "source": [
        "* Aluna: Paula Um Porto de Azeredo Bremenkamp\n",
        "* Matrícula: 2020100794"
      ],
      "metadata": {
        "id": "ye9b-FaAaIKN"
      }
    },
    {
      "cell_type": "code",
      "execution_count": 2,
      "metadata": {
        "id": "mtLxj6nUZYBQ"
      },
      "outputs": [],
      "source": [
        "# utils \n",
        "import pandas as pd\n",
        "import numpy as np\n",
        "import matplotlib.pyplot as plt\n",
        "from scipy import stats\n",
        "import random \n",
        "from collections import Counter\n",
        "from scipy.stats import mode\n",
        "import warnings\n",
        "import seaborn as sns\n",
        "\n",
        "# sklearn utils\n",
        "from sklearn.model_selection import train_test_split\n",
        "from sklearn.model_selection import cross_val_score, GridSearchCV\n",
        "from sklearn.model_selection import cross_val_predict\n",
        "from sklearn.model_selection import RepeatedStratifiedKFold\n",
        "from sklearn.pipeline import Pipeline\n",
        "from sklearn.preprocessing import StandardScaler\n",
        "from sklearn.base import BaseEstimator\n",
        "from sklearn.utils.validation import check_X_y\n",
        "from sklearn.naive_bayes import GaussianNB\n",
        "from sklearn.utils import resample\n",
        "\n",
        "# sklearn classifiers\n",
        "from sklearn.dummy import DummyClassifier\n",
        "from sklearn.ensemble import BaggingClassifier \n",
        "from sklearn.ensemble import AdaBoostClassifier\n",
        "from sklearn.ensemble import RandomForestClassifier\n",
        "from sklearn.neighbors import KNeighborsClassifier\n",
        "from sklearn.tree import DecisionTreeClassifier\n"
      ]
    },
    {
      "cell_type": "code",
      "source": [
        "warnings.filterwarnings(\"ignore\")\n",
        "\n",
        "# import da base de dados\n",
        "df = pd.read_csv('https://raw.githubusercontent.com/VitorBonella/PL-Dataset/main/dataset.csv',sep=\";\")\n",
        "\n",
        "df.set_index('id',inplace=True) #Transformando a coluna id no indice da tabela\n",
        "\n",
        "#Observem que a classe esta separada em duas colunas então devemos concatenadas para formar uma coluna só chamada classe\n",
        "df['classe'] = df['tipo_lampada'].str.replace(\" \", \"\") + df['potencia'].astype(str) \n"
      ],
      "metadata": {
        "id": "y3j--ytyaPyK"
      },
      "execution_count": 3,
      "outputs": []
    },
    {
      "cell_type": "markdown",
      "source": [
        "## Seleção dos dados de acordo com a matrícula"
      ],
      "metadata": {
        "id": "fcoV5tcHd7yj"
      }
    },
    {
      "cell_type": "code",
      "source": [
        "HARALICK = ['probmax', 'energia', 'entropia', 'contraste','homogeneidade', 'correlacao']\n",
        "data = df[HARALICK + ['classe']]\n",
        "df[HARALICK] = df[HARALICK].apply(lambda x: x.str.replace(',', '.').astype(float), axis=1)\n",
        "print(list(df[HARALICK].dtypes))\n",
        "\n",
        "data.head(5)"
      ],
      "metadata": {
        "id": "SYeUy0RdcHCs",
        "colab": {
          "base_uri": "https://localhost:8080/",
          "height": 255
        },
        "outputId": "e4d09710-c0ff-4af8-e71f-99555208e6b2"
      },
      "execution_count": 4,
      "outputs": [
        {
          "output_type": "stream",
          "name": "stdout",
          "text": [
            "[dtype('float64'), dtype('float64'), dtype('float64'), dtype('float64'), dtype('float64'), dtype('float64')]\n"
          ]
        },
        {
          "output_type": "execute_result",
          "data": {
            "text/plain": [
              "               probmax           energia          entropia          contraste  \\\n",
              "id                                                                              \n",
              "355  0,890374128851521  3,17034178175013   6,5716176171224  -30,7129899022437   \n",
              "356  0,874335002692948  3,05605231787486  7,56143396285353  -37,1051952158663   \n",
              "357   0,88498796746712  3,13069373707728  6,85342760134283  -27,9068889939748   \n",
              "358    0,7646646581833  2,32154862004449  13,8784307675733  -109,018789473973   \n",
              "359  0,897764519281096  3,22179527617412  6,21806574418637  -54,8235378125258   \n",
              "\n",
              "        homogeneidade            correlacao       classe  \n",
              "id                                                        \n",
              "355  3,76304934586401   0,00030352446061056  metalica400  \n",
              "356  3,72262223245045  0,000268692571829909  metalica400  \n",
              "357  3,74882866962454  0,000232954297907698  metalica400  \n",
              "358  3,42956382241494  0,000166201729869237  metalica400  \n",
              "359  3,77587702004172  0,000259598389119525  metalica400  "
            ],
            "text/html": [
              "\n",
              "  <div id=\"df-c1b2af27-233c-4c56-845d-447c07dcf3cd\">\n",
              "    <div class=\"colab-df-container\">\n",
              "      <div>\n",
              "<style scoped>\n",
              "    .dataframe tbody tr th:only-of-type {\n",
              "        vertical-align: middle;\n",
              "    }\n",
              "\n",
              "    .dataframe tbody tr th {\n",
              "        vertical-align: top;\n",
              "    }\n",
              "\n",
              "    .dataframe thead th {\n",
              "        text-align: right;\n",
              "    }\n",
              "</style>\n",
              "<table border=\"1\" class=\"dataframe\">\n",
              "  <thead>\n",
              "    <tr style=\"text-align: right;\">\n",
              "      <th></th>\n",
              "      <th>probmax</th>\n",
              "      <th>energia</th>\n",
              "      <th>entropia</th>\n",
              "      <th>contraste</th>\n",
              "      <th>homogeneidade</th>\n",
              "      <th>correlacao</th>\n",
              "      <th>classe</th>\n",
              "    </tr>\n",
              "    <tr>\n",
              "      <th>id</th>\n",
              "      <th></th>\n",
              "      <th></th>\n",
              "      <th></th>\n",
              "      <th></th>\n",
              "      <th></th>\n",
              "      <th></th>\n",
              "      <th></th>\n",
              "    </tr>\n",
              "  </thead>\n",
              "  <tbody>\n",
              "    <tr>\n",
              "      <th>355</th>\n",
              "      <td>0,890374128851521</td>\n",
              "      <td>3,17034178175013</td>\n",
              "      <td>6,5716176171224</td>\n",
              "      <td>-30,7129899022437</td>\n",
              "      <td>3,76304934586401</td>\n",
              "      <td>0,00030352446061056</td>\n",
              "      <td>metalica400</td>\n",
              "    </tr>\n",
              "    <tr>\n",
              "      <th>356</th>\n",
              "      <td>0,874335002692948</td>\n",
              "      <td>3,05605231787486</td>\n",
              "      <td>7,56143396285353</td>\n",
              "      <td>-37,1051952158663</td>\n",
              "      <td>3,72262223245045</td>\n",
              "      <td>0,000268692571829909</td>\n",
              "      <td>metalica400</td>\n",
              "    </tr>\n",
              "    <tr>\n",
              "      <th>357</th>\n",
              "      <td>0,88498796746712</td>\n",
              "      <td>3,13069373707728</td>\n",
              "      <td>6,85342760134283</td>\n",
              "      <td>-27,9068889939748</td>\n",
              "      <td>3,74882866962454</td>\n",
              "      <td>0,000232954297907698</td>\n",
              "      <td>metalica400</td>\n",
              "    </tr>\n",
              "    <tr>\n",
              "      <th>358</th>\n",
              "      <td>0,7646646581833</td>\n",
              "      <td>2,32154862004449</td>\n",
              "      <td>13,8784307675733</td>\n",
              "      <td>-109,018789473973</td>\n",
              "      <td>3,42956382241494</td>\n",
              "      <td>0,000166201729869237</td>\n",
              "      <td>metalica400</td>\n",
              "    </tr>\n",
              "    <tr>\n",
              "      <th>359</th>\n",
              "      <td>0,897764519281096</td>\n",
              "      <td>3,22179527617412</td>\n",
              "      <td>6,21806574418637</td>\n",
              "      <td>-54,8235378125258</td>\n",
              "      <td>3,77587702004172</td>\n",
              "      <td>0,000259598389119525</td>\n",
              "      <td>metalica400</td>\n",
              "    </tr>\n",
              "  </tbody>\n",
              "</table>\n",
              "</div>\n",
              "      <button class=\"colab-df-convert\" onclick=\"convertToInteractive('df-c1b2af27-233c-4c56-845d-447c07dcf3cd')\"\n",
              "              title=\"Convert this dataframe to an interactive table.\"\n",
              "              style=\"display:none;\">\n",
              "        \n",
              "  <svg xmlns=\"http://www.w3.org/2000/svg\" height=\"24px\"viewBox=\"0 0 24 24\"\n",
              "       width=\"24px\">\n",
              "    <path d=\"M0 0h24v24H0V0z\" fill=\"none\"/>\n",
              "    <path d=\"M18.56 5.44l.94 2.06.94-2.06 2.06-.94-2.06-.94-.94-2.06-.94 2.06-2.06.94zm-11 1L8.5 8.5l.94-2.06 2.06-.94-2.06-.94L8.5 2.5l-.94 2.06-2.06.94zm10 10l.94 2.06.94-2.06 2.06-.94-2.06-.94-.94-2.06-.94 2.06-2.06.94z\"/><path d=\"M17.41 7.96l-1.37-1.37c-.4-.4-.92-.59-1.43-.59-.52 0-1.04.2-1.43.59L10.3 9.45l-7.72 7.72c-.78.78-.78 2.05 0 2.83L4 21.41c.39.39.9.59 1.41.59.51 0 1.02-.2 1.41-.59l7.78-7.78 2.81-2.81c.8-.78.8-2.07 0-2.86zM5.41 20L4 18.59l7.72-7.72 1.47 1.35L5.41 20z\"/>\n",
              "  </svg>\n",
              "      </button>\n",
              "      \n",
              "  <style>\n",
              "    .colab-df-container {\n",
              "      display:flex;\n",
              "      flex-wrap:wrap;\n",
              "      gap: 12px;\n",
              "    }\n",
              "\n",
              "    .colab-df-convert {\n",
              "      background-color: #E8F0FE;\n",
              "      border: none;\n",
              "      border-radius: 50%;\n",
              "      cursor: pointer;\n",
              "      display: none;\n",
              "      fill: #1967D2;\n",
              "      height: 32px;\n",
              "      padding: 0 0 0 0;\n",
              "      width: 32px;\n",
              "    }\n",
              "\n",
              "    .colab-df-convert:hover {\n",
              "      background-color: #E2EBFA;\n",
              "      box-shadow: 0px 1px 2px rgba(60, 64, 67, 0.3), 0px 1px 3px 1px rgba(60, 64, 67, 0.15);\n",
              "      fill: #174EA6;\n",
              "    }\n",
              "\n",
              "    [theme=dark] .colab-df-convert {\n",
              "      background-color: #3B4455;\n",
              "      fill: #D2E3FC;\n",
              "    }\n",
              "\n",
              "    [theme=dark] .colab-df-convert:hover {\n",
              "      background-color: #434B5C;\n",
              "      box-shadow: 0px 1px 3px 1px rgba(0, 0, 0, 0.15);\n",
              "      filter: drop-shadow(0px 1px 2px rgba(0, 0, 0, 0.3));\n",
              "      fill: #FFFFFF;\n",
              "    }\n",
              "  </style>\n",
              "\n",
              "      <script>\n",
              "        const buttonEl =\n",
              "          document.querySelector('#df-c1b2af27-233c-4c56-845d-447c07dcf3cd button.colab-df-convert');\n",
              "        buttonEl.style.display =\n",
              "          google.colab.kernel.accessAllowed ? 'block' : 'none';\n",
              "\n",
              "        async function convertToInteractive(key) {\n",
              "          const element = document.querySelector('#df-c1b2af27-233c-4c56-845d-447c07dcf3cd');\n",
              "          const dataTable =\n",
              "            await google.colab.kernel.invokeFunction('convertToInteractive',\n",
              "                                                     [key], {});\n",
              "          if (!dataTable) return;\n",
              "\n",
              "          const docLinkHtml = 'Like what you see? Visit the ' +\n",
              "            '<a target=\"_blank\" href=https://colab.research.google.com/notebooks/data_table.ipynb>data table notebook</a>'\n",
              "            + ' to learn more about interactive tables.';\n",
              "          element.innerHTML = '';\n",
              "          dataTable['output_type'] = 'display_data';\n",
              "          await google.colab.output.renderOutput(dataTable, element);\n",
              "          const docLink = document.createElement('div');\n",
              "          docLink.innerHTML = docLinkHtml;\n",
              "          element.appendChild(docLink);\n",
              "        }\n",
              "      </script>\n",
              "    </div>\n",
              "  </div>\n",
              "  "
            ]
          },
          "metadata": {},
          "execution_count": 4
        }
      ]
    },
    {
      "cell_type": "code",
      "source": [
        "X = data[HARALICK]\n",
        "y = data['classe']\n",
        "X = X.replace(',', '.', regex=True).astype(float)\n"
      ],
      "metadata": {
        "id": "GU8EZTwxiSfQ"
      },
      "execution_count": 5,
      "outputs": []
    },
    {
      "cell_type": "markdown",
      "source": [
        "## Funções de uso geral"
      ],
      "metadata": {
        "id": "ABnC5Bq0z1OV"
      }
    },
    {
      "cell_type": "code",
      "source": [
        "def estatisticas(scores, metodo): \n",
        "  media = np.mean(scores)\n",
        "  desvio_padrao = np.std(scores)\n",
        "  inf, sup = stats.norm.interval(0.95, loc=media, scale=desvio_padrao/np.sqrt(len(scores)))\n",
        "\n",
        "  return {'Método': metodo, 'Média': media, 'Desvio Padrão': desvio_padrao, 'Limite Inferior': inf, 'Limite Superior': sup}\n"
      ],
      "metadata": {
        "id": "lOuu3ouHz5Tt"
      },
      "execution_count": 6,
      "outputs": []
    },
    {
      "cell_type": "code",
      "source": [
        "def treinamento(parametros, metodo):\n",
        "    pipe = Pipeline(steps=[('scaler', StandardScaler()), ('metodo', metodo)]) # normalizacao\n",
        "    clf = GridSearchCV(pipe, parametros, cv=4) # busca em grade com ciclo interno 4 folds\n",
        "    rkf = RepeatedStratifiedKFold(n_splits=10, n_repeats=3, random_state=36851234) # 3 repetições e 10 folds\n",
        "\n",
        "    return cross_val_score(clf, X, y, cv=rkf)\n"
      ],
      "metadata": {
        "id": "Bky5j88-pPtm"
      },
      "execution_count": 7,
      "outputs": []
    },
    {
      "cell_type": "markdown",
      "source": [
        "## ZeroR (ZR)"
      ],
      "metadata": {
        "id": "Edsq39U1h3Pj"
      }
    },
    {
      "cell_type": "code",
      "source": [
        "# Dummy classifier - 3 rodadas de validação cruzada estratificada de 10 folds do classificador\n",
        "ZR = DummyClassifier()\n",
        "rkf = RepeatedStratifiedKFold(n_splits=10, n_repeats=3, random_state=36851234)\n",
        "scoresZR = cross_val_score(ZR, X, y, scoring='accuracy', cv = rkf)\n",
        "\n",
        "print (scoresZR)"
      ],
      "metadata": {
        "colab": {
          "base_uri": "https://localhost:8080/"
        },
        "id": "UaxncEJLo_3B",
        "outputId": "356208cb-4d8e-4ee9-da48-c60b032c7345"
      },
      "execution_count": 8,
      "outputs": [
        {
          "output_type": "stream",
          "name": "stdout",
          "text": [
            "[0.16666667 0.13333333 0.16666667 0.16666667 0.16666667 0.16666667\n",
            " 0.16666667 0.17241379 0.17241379 0.17241379 0.16666667 0.13333333\n",
            " 0.16666667 0.16666667 0.16666667 0.16666667 0.16666667 0.17241379\n",
            " 0.17241379 0.17241379 0.16666667 0.13333333 0.16666667 0.16666667\n",
            " 0.16666667 0.16666667 0.16666667 0.17241379 0.17241379 0.17241379]\n"
          ]
        }
      ]
    },
    {
      "cell_type": "code",
      "source": [
        "resultados = []\n",
        "resultados.append(estatisticas(scoresZR, 'ZR'))"
      ],
      "metadata": {
        "id": "R6cWCIcQrXgu"
      },
      "execution_count": 9,
      "outputs": []
    },
    {
      "cell_type": "markdown",
      "source": [
        "## Bagging (BA)"
      ],
      "metadata": {
        "id": "Ez0g-cT2vEy4"
      }
    },
    {
      "cell_type": "code",
      "source": [
        "BA = BaggingClassifier(random_state=11)\n",
        "parameters = {'metodo__n_estimators': [3, 9, 15, 21]} # setando hiperparâmetros\n",
        "scoresBA = treinamento(parameters, BA)\n",
        "\n",
        "print(scoresBA)"
      ],
      "metadata": {
        "id": "eJYhXVYvwZb9",
        "colab": {
          "base_uri": "https://localhost:8080/"
        },
        "outputId": "95ceb339-8ce5-435f-acd9-d9a18fe9707e"
      },
      "execution_count": 10,
      "outputs": [
        {
          "output_type": "stream",
          "name": "stdout",
          "text": [
            "[0.76666667 0.43333333 0.53333333 0.56666667 0.63333333 0.56666667\n",
            " 0.6        0.65517241 0.55172414 0.68965517 0.36666667 0.46666667\n",
            " 0.63333333 0.66666667 0.56666667 0.53333333 0.53333333 0.65517241\n",
            " 0.62068966 0.62068966 0.53333333 0.53333333 0.6        0.46666667\n",
            " 0.6        0.5        0.6        0.44827586 0.68965517 0.62068966]\n"
          ]
        }
      ]
    },
    {
      "cell_type": "code",
      "source": [
        "resultados.append(estatisticas(scoresBA, 'BA'))"
      ],
      "metadata": {
        "id": "9tuNFtZPucy0"
      },
      "execution_count": 11,
      "outputs": []
    },
    {
      "cell_type": "markdown",
      "source": [
        "## AdaBoost (AB)"
      ],
      "metadata": {
        "id": "wYQzKsjJvK3-"
      }
    },
    {
      "cell_type": "code",
      "source": [
        "AB = AdaBoostClassifier(random_state=11)\n",
        "parameters = {'metodo__n_estimators':[3, 9, 15, 21]} # setando hiperparametros\n",
        "scoresAB = treinamento(parameters, AB)\n",
        "\n",
        "scoresAB"
      ],
      "metadata": {
        "colab": {
          "base_uri": "https://localhost:8080/"
        },
        "id": "xtq0eQeRyL7n",
        "outputId": "3a0f483e-1320-4e3a-b9bd-fa69e990387b"
      },
      "execution_count": 12,
      "outputs": [
        {
          "output_type": "execute_result",
          "data": {
            "text/plain": [
              "array([0.33333333, 0.26666667, 0.33333333, 0.36666667, 0.33333333,\n",
              "       0.33333333, 0.3       , 0.34482759, 0.34482759, 0.34482759,\n",
              "       0.3       , 0.33333333, 0.36666667, 0.36666667, 0.26666667,\n",
              "       0.4       , 0.33333333, 0.34482759, 0.37931034, 0.34482759,\n",
              "       0.36666667, 0.26666667, 0.36666667, 0.36666667, 0.33333333,\n",
              "       0.3       , 0.33333333, 0.34482759, 0.34482759, 0.34482759])"
            ]
          },
          "metadata": {},
          "execution_count": 12
        }
      ]
    },
    {
      "cell_type": "code",
      "source": [
        "resultados.append(estatisticas(scoresAB, 'AB'))"
      ],
      "metadata": {
        "id": "3T_BGnq71U0t"
      },
      "execution_count": 13,
      "outputs": []
    },
    {
      "cell_type": "markdown",
      "source": [
        "## RandomForest (RF)"
      ],
      "metadata": {
        "id": "CP-TQ1savOZJ"
      }
    },
    {
      "cell_type": "code",
      "source": [
        "rF = RandomForestClassifier(random_state=11)\n",
        "parameters={'metodo__n_estimators': [3, 9, 15, 21]}\n",
        "scoresRF = treinamento(parameters, rF)\n",
        "\n",
        "scoresRF"
      ],
      "metadata": {
        "colab": {
          "base_uri": "https://localhost:8080/"
        },
        "id": "br7Po-Biwgjw",
        "outputId": "e82d748d-66f2-4414-841e-b1e7b3ebb8b5"
      },
      "execution_count": 14,
      "outputs": [
        {
          "output_type": "execute_result",
          "data": {
            "text/plain": [
              "array([0.76666667, 0.3       , 0.66666667, 0.53333333, 0.6       ,\n",
              "       0.66666667, 0.66666667, 0.62068966, 0.51724138, 0.68965517,\n",
              "       0.4       , 0.46666667, 0.73333333, 0.63333333, 0.53333333,\n",
              "       0.6       , 0.63333333, 0.65517241, 0.5862069 , 0.62068966,\n",
              "       0.6       , 0.56666667, 0.73333333, 0.53333333, 0.6       ,\n",
              "       0.46666667, 0.56666667, 0.48275862, 0.5862069 , 0.5862069 ])"
            ]
          },
          "metadata": {},
          "execution_count": 14
        }
      ]
    },
    {
      "cell_type": "code",
      "source": [
        "resultados.append(estatisticas(scoresRF, 'RF'))"
      ],
      "metadata": {
        "id": "-dPbFRtv2UaL"
      },
      "execution_count": 15,
      "outputs": []
    },
    {
      "cell_type": "markdown",
      "source": [
        "## Heterogeneous Pooling (HP)"
      ],
      "metadata": {
        "id": "IJ05F0QQwVCh"
      }
    },
    {
      "cell_type": "code",
      "source": [
        "# retorna a ordenacao das classes de acordo com a ocorrencia nos exemplos na base de treino\n",
        "def get_ordenacao(y_train):\n",
        "  class_counts = Counter(y_train) # contagem de ocorrencias\n",
        "  class_order = sorted(class_counts, key=class_counts.get, reverse=True) # ordenacao\n",
        "\n",
        "  return class_order"
      ],
      "metadata": {
        "id": "9DigGM4_TuD5"
      },
      "execution_count": 16,
      "outputs": []
    },
    {
      "cell_type": "code",
      "source": [
        "# treina um modelo de acordo com o nome passado por parametro\n",
        "def train_classificador(X_train, y_train, classifier_name):\n",
        "  if classifier_name == 'KNN':\n",
        "    classifier = KNeighborsClassifier()\n",
        "  elif classifier_name == 'NB':\n",
        "    classifier = GaussianNB()\n",
        "  elif classifier_name == 'DT':\n",
        "    classifier = DecisionTreeClassifier()\n",
        "  \n",
        "  classifier.fit(X_train, y_train)\n",
        "  return classifier\n"
      ],
      "metadata": {
        "id": "jRR1Fy9LZaCS"
      },
      "execution_count": 17,
      "outputs": []
    },
    {
      "cell_type": "code",
      "source": [
        "class HeterogeneousPolling(BaseEstimator):\n",
        "  def __init__(self, bias=None):\n",
        "    super().__init__()\n",
        "    self.bias = bias\n",
        "    self.rl = []\n",
        "    self.nclass = 0 \n",
        "    self.combined_classifiers = []\n",
        "\n",
        "  def fit(self,X,y):\n",
        "    n_samples = [1, 3, 5, 7]\n",
        "    classifier_names = ['KNN', 'NB', 'DT']\n",
        "    class_order = get_ordenacao(y) # Chama funcao para ordenar as classes por ocorrencia \n",
        "    random_state = 0\n",
        "\n",
        "    for n in n_samples:\n",
        "      if n == 1:\n",
        "        X_curr_train = X\n",
        "        y_curr_train = y\n",
        "      else:\n",
        "        X_curr_train, y_curr_train = resample(X, y, random_state=random_state, replace=True) # resample da base de dados usando valor incremental do random state\n",
        "        random_state += 1  # Incrementar o valor de random_state para a próxima iteração\n",
        "\n",
        "      for classifier_name in classifier_names:\n",
        "          classifier = train_classificador(X_curr_train, y_curr_train, classifier_name)\n",
        "          self.combined_classifiers.append(classifier)\n",
        "\n",
        "  def predict(self, X):\n",
        "        y_pred = []\n",
        "        # Faz a predicao de cada classificador no array e salva em y_pred\n",
        "        for classifier in self.combined_classifiers:\n",
        "            y_pred_single = classifier.predict(X)\n",
        "            y_pred.append(y_pred_single)\n",
        "\n",
        "        y_pred = np.array(y_pred)\n",
        "        y_pred_majority, _ = mode(y_pred, axis=0) # Faz a moda entre as classes pra definir qual foi a mais votada\n",
        "\n",
        "        # Lida com possíveis empates\n",
        "        if y_pred_majority.shape[0] > 1:\n",
        "            # Retorna a classe mais frequente na base de treino dentre as que empataram\n",
        "            unique_classes, counts = np.unique(y_pred_majority, return_counts=True)\n",
        "            most_frequent_class = unique_classes[np.argmax(counts)]\n",
        "            y_pred_majority = most_frequent_class\n",
        "        else:\n",
        "            y_pred_majority = y_pred_majority[0]\n",
        "\n",
        "        return y_pred_majority        "
      ],
      "metadata": {
        "id": "_11RtZqU8NIc"
      },
      "execution_count": 19,
      "outputs": []
    },
    {
      "cell_type": "code",
      "source": [
        "HP = HeterogeneousPolling()\n",
        "\n",
        "pipeline = Pipeline([('transformer', StandardScaler()), ('estimator', HP)])\n",
        "\n",
        "grade={'estimator__bias': [1, 3, 5, 7]}\n",
        "\n",
        "gs = GridSearchCV(estimator=pipeline, param_grid = grade, scoring='accuracy', cv = 4)\n",
        "\n",
        "rkf = RepeatedStratifiedKFold(n_splits=10, n_repeats=3, random_state=36851234) # 3 repetições e 10 folds\n",
        "\n",
        "scoresHP = cross_val_score(gs, X, y, scoring='accuracy', cv = rkf)\n",
        "\n",
        "print(scoresHP)"
      ],
      "metadata": {
        "colab": {
          "base_uri": "https://localhost:8080/"
        },
        "id": "6buYVCVTcxK8",
        "outputId": "012482f9-f61b-4eaa-8e88-2e5f1055f9e8"
      },
      "execution_count": 20,
      "outputs": [
        {
          "output_type": "stream",
          "name": "stdout",
          "text": [
            "[0.76666667 0.5        0.7        0.46666667 0.53333333 0.6\n",
            " 0.46666667 0.5862069  0.48275862 0.65517241 0.56666667 0.46666667\n",
            " 0.6        0.73333333 0.53333333 0.6        0.63333333 0.68965517\n",
            " 0.48275862 0.55172414 0.53333333 0.56666667 0.63333333 0.6\n",
            " 0.53333333 0.5        0.63333333 0.48275862 0.68965517 0.62068966]\n"
          ]
        }
      ]
    },
    {
      "cell_type": "code",
      "source": [
        "resultados.append(estatisticas(scoresHP, 'HP'))"
      ],
      "metadata": {
        "id": "-MUmMBJ3jn6H"
      },
      "execution_count": 21,
      "outputs": []
    },
    {
      "cell_type": "markdown",
      "source": [
        "## Resultados"
      ],
      "metadata": {
        "id": "xM4L15qJGjW_"
      }
    },
    {
      "cell_type": "code",
      "source": [
        "tabela = pd.DataFrame(resultados)\n",
        "tabela.set_index('Método',inplace=True)\n",
        "\n",
        "tabela"
      ],
      "metadata": {
        "colab": {
          "base_uri": "https://localhost:8080/"
        },
        "id": "sD18Flg72_MH",
        "outputId": "0924eac3-e870-4d30-a87c-ca230af930af"
      },
      "execution_count": 22,
      "outputs": [
        {
          "output_type": "stream",
          "name": "stdout",
          "text": [
            "           Média  Desvio Padrão  Limite Inferior  Limite Superior\n",
            "Método                                                           \n",
            "ZR      0.165057       0.010883         0.161163         0.168952\n",
            "BA      0.575057       0.085228         0.544560         0.605555\n",
            "AB      0.336820       0.031929         0.325394         0.348245\n",
            "RF      0.587050       0.097992         0.551985         0.622115\n",
            "HP      0.580268       0.082431         0.550771         0.609765\n"
          ]
        }
      ]
    },
    {
      "cell_type": "code",
      "source": [
        "modelos = [\"ZR\", \"BA\", \"AB\", \"RF\", \"HP\"]\n",
        "scores = [scoresZR, scoresBA, scoresAB, scoresRF, scoresHP]\n",
        "sns.boxplot(data=scores).set(xticklabels=modelos)\n",
        "plt.xlabel('Classificadores')\n",
        "plt.ylabel(\"Acuracia\")\n"
      ],
      "metadata": {
        "colab": {
          "base_uri": "https://localhost:8080/",
          "height": 449
        },
        "id": "BVsurLPoGoDn",
        "outputId": "48b4f1d2-3a08-4260-d08d-133856fe5e98"
      },
      "execution_count": 26,
      "outputs": [
        {
          "output_type": "display_data",
          "data": {
            "text/plain": [
              "<Figure size 640x480 with 1 Axes>"
            ],
            "image/png": "[encoded data removed]"
          },
          "metadata": {}
        }
      ]
    },
    {
      "cell_type": "code",
      "source": [
        "\n",
        "# Realizar os testes de hipótese\n",
        "t_pvalues = []\n",
        "wilcoxon_pvalues = []\n",
        "\n",
        "for i in range(len(modelos)):\n",
        "    for j in range(i+1, len(modelos)):\n",
        "        t_result = stats.ttest_rel(scores[i], scores[j])\n",
        "        t_pvalues.append(t_result.pvalue)\n",
        "\n",
        "        wilcoxon_result = stats.wilcoxon(scores[i], scores[j])\n",
        "        wilcoxon_pvalues.append(wilcoxon_result.pvalue)\n",
        "\n",
        "# Criar a tabela pareada\n",
        "tabela_pareada = pd.DataFrame(index=modelos, columns=modelos)\n",
        "\n",
        "# Preencher a matriz triangular superior com os resultados do teste t pareado\n",
        "for i in range(len(modelos)):\n",
        "    for j in range(i+1, len(modelos)):\n",
        "        if t_pvalues[0] < 0.05:\n",
        "            tabela_pareada.iloc[i, j] = f'{t_pvalues[0]:.3f}'\n",
        "        else:\n",
        "            tabela_pareada.iloc[i, j] = f'{t_pvalues[0]:.6f}'\n",
        "        t_pvalues.pop(0)\n",
        "\n",
        "# Preencher a matriz triangular inferior com os resultados do teste de Wilcoxon\n",
        "for i in range(len(modelos)):\n",
        "    for j in range(i):\n",
        "        if wilcoxon_pvalues[0] < 0.05:\n",
        "            tabela_pareada.iloc[i, j] = f'{wilcoxon_pvalues[0]:.3f}'\n",
        "        else:\n",
        "            tabela_pareada.iloc[i, j] = f'{wilcoxon_pvalues[0]:.6f}'\n",
        "        wilcoxon_pvalues.pop(0)\n",
        "\n",
        "# Exibir a tabela pareada\n",
        "tabela_pareada"
      ],
      "metadata": {
        "colab": {
          "base_uri": "https://localhost:8080/",
          "height": 206
        },
        "id": "atrlAcpCNAUY",
        "outputId": "075a6330-9b80-44b5-b315-aa194162779f"
      },
      "execution_count": 28,
      "outputs": [
        {
          "output_type": "execute_result",
          "data": {
            "text/plain": [
              "          ZR     BA        AB        RF        HP\n",
              "ZR       NaN  0.000     0.000     0.000     0.000\n",
              "BA     0.000    NaN     0.000  0.320223  0.729534\n",
              "AB     0.000  0.000       NaN     0.000     0.000\n",
              "RF     0.000  0.000  0.288643       NaN  0.665420\n",
              "HP  0.988572  0.000     0.000  0.492056       NaN"
            ],
            "text/html": [
              "\n",
              "  <div id=\"df-07c5146e-78a9-4122-95a5-04d3a12f293b\">\n",
              "    <div class=\"colab-df-container\">\n",
              "      <div>\n",
              "<style scoped>\n",
              "    .dataframe tbody tr th:only-of-type {\n",
              "        vertical-align: middle;\n",
              "    }\n",
              "\n",
              "    .dataframe tbody tr th {\n",
              "        vertical-align: top;\n",
              "    }\n",
              "\n",
              "    .dataframe thead th {\n",
              "        text-align: right;\n",
              "    }\n",
              "</style>\n",
              "<table border=\"1\" class=\"dataframe\">\n",
              "  <thead>\n",
              "    <tr style=\"text-align: right;\">\n",
              "      <th></th>\n",
              "      <th>ZR</th>\n",
              "      <th>BA</th>\n",
              "      <th>AB</th>\n",
              "      <th>RF</th>\n",
              "      <th>HP</th>\n",
              "    </tr>\n",
              "  </thead>\n",
              "  <tbody>\n",
              "    <tr>\n",
              "      <th>ZR</th>\n",
              "      <td>NaN</td>\n",
              "      <td>0.000</td>\n",
              "      <td>0.000</td>\n",
              "      <td>0.000</td>\n",
              "      <td>0.000</td>\n",
              "    </tr>\n",
              "    <tr>\n",
              "      <th>BA</th>\n",
              "      <td>0.000</td>\n",
              "      <td>NaN</td>\n",
              "      <td>0.000</td>\n",
              "      <td>0.320223</td>\n",
              "      <td>0.729534</td>\n",
              "    </tr>\n",
              "    <tr>\n",
              "      <th>AB</th>\n",
              "      <td>0.000</td>\n",
              "      <td>0.000</td>\n",
              "      <td>NaN</td>\n",
              "      <td>0.000</td>\n",
              "      <td>0.000</td>\n",
              "    </tr>\n",
              "    <tr>\n",
              "      <th>RF</th>\n",
              "      <td>0.000</td>\n",
              "      <td>0.000</td>\n",
              "      <td>0.288643</td>\n",
              "      <td>NaN</td>\n",
              "      <td>0.665420</td>\n",
              "    </tr>\n",
              "    <tr>\n",
              "      <th>HP</th>\n",
              "      <td>0.988572</td>\n",
              "      <td>0.000</td>\n",
              "      <td>0.000</td>\n",
              "      <td>0.492056</td>\n",
              "      <td>NaN</td>\n",
              "    </tr>\n",
              "  </tbody>\n",
              "</table>\n",
              "</div>\n",
              "      <button class=\"colab-df-convert\" onclick=\"convertToInteractive('df-07c5146e-78a9-4122-95a5-04d3a12f293b')\"\n",
              "              title=\"Convert this dataframe to an interactive table.\"\n",
              "              style=\"display:none;\">\n",
              "        \n",
              "  <svg xmlns=\"http://www.w3.org/2000/svg\" height=\"24px\"viewBox=\"0 0 24 24\"\n",
              "       width=\"24px\">\n",
              "    <path d=\"M0 0h24v24H0V0z\" fill=\"none\"/>\n",
              "    <path d=\"M18.56 5.44l.94 2.06.94-2.06 2.06-.94-2.06-.94-.94-2.06-.94 2.06-2.06.94zm-11 1L8.5 8.5l.94-2.06 2.06-.94-2.06-.94L8.5 2.5l-.94 2.06-2.06.94zm10 10l.94 2.06.94-2.06 2.06-.94-2.06-.94-.94-2.06-.94 2.06-2.06.94z\"/><path d=\"M17.41 7.96l-1.37-1.37c-.4-.4-.92-.59-1.43-.59-.52 0-1.04.2-1.43.59L10.3 9.45l-7.72 7.72c-.78.78-.78 2.05 0 2.83L4 21.41c.39.39.9.59 1.41.59.51 0 1.02-.2 1.41-.59l7.78-7.78 2.81-2.81c.8-.78.8-2.07 0-2.86zM5.41 20L4 18.59l7.72-7.72 1.47 1.35L5.41 20z\"/>\n",
              "  </svg>\n",
              "      </button>\n",
              "      \n",
              "  <style>\n",
              "    .colab-df-container {\n",
              "      display:flex;\n",
              "      flex-wrap:wrap;\n",
              "      gap: 12px;\n",
              "    }\n",
              "\n",
              "    .colab-df-convert {\n",
              "      background-color: #E8F0FE;\n",
              "      border: none;\n",
              "      border-radius: 50%;\n",
              "      cursor: pointer;\n",
              "      display: none;\n",
              "      fill: #1967D2;\n",
              "      height: 32px;\n",
              "      padding: 0 0 0 0;\n",
              "      width: 32px;\n",
              "    }\n",
              "\n",
              "    .colab-df-convert:hover {\n",
              "      background-color: #E2EBFA;\n",
              "      box-shadow: 0px 1px 2px rgba(60, 64, 67, 0.3), 0px 1px 3px 1px rgba(60, 64, 67, 0.15);\n",
              "      fill: #174EA6;\n",
              "    }\n",
              "\n",
              "    [theme=dark] .colab-df-convert {\n",
              "      background-color: #3B4455;\n",
              "      fill: #D2E3FC;\n",
              "    }\n",
              "\n",
              "    [theme=dark] .colab-df-convert:hover {\n",
              "      background-color: #434B5C;\n",
              "      box-shadow: 0px 1px 3px 1px rgba(0, 0, 0, 0.15);\n",
              "      filter: drop-shadow(0px 1px 2px rgba(0, 0, 0, 0.3));\n",
              "      fill: #FFFFFF;\n",
              "    }\n",
              "  </style>\n",
              "\n",
              "      <script>\n",
              "        const buttonEl =\n",
              "          document.querySelector('#df-07c5146e-78a9-4122-95a5-04d3a12f293b button.colab-df-convert');\n",
              "        buttonEl.style.display =\n",
              "          google.colab.kernel.accessAllowed ? 'block' : 'none';\n",
              "\n",
              "        async function convertToInteractive(key) {\n",
              "          const element = document.querySelector('#df-07c5146e-78a9-4122-95a5-04d3a12f293b');\n",
              "          const dataTable =\n",
              "            await google.colab.kernel.invokeFunction('convertToInteractive',\n",
              "                                                     [key], {});\n",
              "          if (!dataTable) return;\n",
              "\n",
              "          const docLinkHtml = 'Like what you see? Visit the ' +\n",
              "            '<a target=\"_blank\" href=https://colab.research.google.com/notebooks/data_table.ipynb>data table notebook</a>'\n",
              "            + ' to learn more about interactive tables.';\n",
              "          element.innerHTML = '';\n",
              "          dataTable['output_type'] = 'display_data';\n",
              "          await google.colab.output.renderOutput(dataTable, element);\n",
              "          const docLink = document.createElement('div');\n",
              "          docLink.innerHTML = docLinkHtml;\n",
              "          element.appendChild(docLink);\n",
              "        }\n",
              "      </script>\n",
              "    </div>\n",
              "  </div>\n",
              "  "
            ]
          },
          "metadata": {},
          "execution_count": 28
        }
      ]
    }
  ]
}